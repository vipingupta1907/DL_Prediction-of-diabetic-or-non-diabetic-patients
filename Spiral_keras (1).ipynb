{
  "nbformat": 4,
  "nbformat_minor": 0,
  "metadata": {
    "colab": {
      "name": "Spiral_keras.ipynb",
      "provenance": [],
      "collapsed_sections": []
    },
    "kernelspec": {
      "name": "python3",
      "display_name": "Python 3"
    }
  },
  "cells": [
    {
      "cell_type": "code",
      "metadata": {
        "id": "yWdqN_5FeeD5",
        "colab": {
          "base_uri": "https://localhost:8080/"
        },
        "outputId": "583fbd64-1060-4b4c-dec4-75a6f18bcbc9"
      },
      "source": [
        "!pip install sklearn"
      ],
      "execution_count": null,
      "outputs": [
        {
          "output_type": "stream",
          "text": [
            "Requirement already satisfied: sklearn in /usr/local/lib/python3.6/dist-packages (0.0)\n",
            "Requirement already satisfied: scikit-learn in /usr/local/lib/python3.6/dist-packages (from sklearn) (0.22.2.post1)\n",
            "Requirement already satisfied: scipy>=0.17.0 in /usr/local/lib/python3.6/dist-packages (from scikit-learn->sklearn) (1.4.1)\n",
            "Requirement already satisfied: joblib>=0.11 in /usr/local/lib/python3.6/dist-packages (from scikit-learn->sklearn) (1.0.0)\n",
            "Requirement already satisfied: numpy>=1.11.0 in /usr/local/lib/python3.6/dist-packages (from scikit-learn->sklearn) (1.19.5)\n"
          ],
          "name": "stdout"
        }
      ]
    },
    {
      "cell_type": "code",
      "metadata": {
        "id": "WKVFs6ObeqtP",
        "colab": {
          "base_uri": "https://localhost:8080/"
        },
        "outputId": "b3a62cc7-f28c-4405-83a3-f47371901d11"
      },
      "source": [
        "from __future__ import absolute_import, division, print_function, unicode_literals\n",
        "%tensorflow_version 2.x\n",
        "\n",
        "import numpy as np\n",
        "import pandas as pd\n",
        "\n",
        "import math\n",
        "import matplotlib.pyplot as plt\n",
        "from IPython.display import clear_output\n",
        "from six.moves import urllib\n",
        "\n",
        "from sklearn.metrics import confusion_matrix\n",
        "\n",
        "from numpy.random import seed\n",
        "from numpy.random import randn\n",
        "\n",
        "from numpy import loadtxt\n",
        "from keras.models import Sequential\n",
        "from keras.layers import Dense\n",
        "\n",
        "import tensorflow.compat.v2.feature_column as fc\n",
        "import tensorflow as tf\n",
        "print(tf.version)"
      ],
      "execution_count": null,
      "outputs": [
        {
          "output_type": "stream",
          "text": [
            "<module 'tensorflow._api.v2.version' from '/usr/local/lib/python3.6/dist-packages/tensorflow/_api/v2/version/__init__.py'>\n"
          ],
          "name": "stdout"
        }
      ]
    },
    {
      "cell_type": "code",
      "metadata": {
        "id": "VntoSIhBFHIo",
        "colab": {
          "base_uri": "https://localhost:8080/",
          "height": 538
        },
        "outputId": "7ca96b85-11af-4a6f-d626-f4e50b9d68cb"
      },
      "source": [
        "rng=100000\n",
        "noise_mean=0.0\n",
        "noise_var=0.05\n",
        "\n",
        "A=[]\n",
        "A=[0.0 for i in range(rng)]\n",
        "\n",
        "B=[]\n",
        "B=[0.0 for i in range(rng)]\n",
        "\n",
        "C=[]\n",
        "C=[0.0 for i in range(rng)]\n",
        "\n",
        "Xa=[]\n",
        "Xa=[0.0 for i in range(rng)]\n",
        "\n",
        "Xb=[]\n",
        "Xb=[0.0 for i in range(rng)]\n",
        "\n",
        "Xc=[]\n",
        "Xc=[0.0 for i in range(rng)]\n",
        "\n",
        "CoA=[]\n",
        "CoA=[0 for i in range(rng)]\n",
        "\n",
        "CoB=[]\n",
        "CoB=[1 for i in range(rng)]\n",
        "\n",
        "CoC=[]\n",
        "CoC=[2 for i in range(rng)]\n",
        "\n",
        "\n",
        "x1=0.0\n",
        "x2=0\n",
        "while x1<=1 and x2<rng:\n",
        "  Xa[x2]=x1*(math.cos((2*3.14/3)*(2*x1-1))) + np.random.normal(noise_mean,noise_var)\n",
        "  A[x2]=x1*(math.sin((2*3.14/3)*(2*x1-1))) + np.random.normal(noise_mean, noise_var)\n",
        "  x1+=(1.0/rng)\n",
        "  x2+=1\n",
        "\n",
        "y1=0.0\n",
        "y2=0\n",
        "while y1<=1 and y2<rng:\n",
        "  Xb[y2]=y1*(math.cos((2*3.14/3)*(2*y1))) + np.random.normal(noise_mean, noise_var)\n",
        "  B[y2]=y1*(math.sin((2*3.14/3)*(2*y1))) + np.random.normal(noise_mean, noise_var)\n",
        "  y1+=(1.0/rng)\n",
        "  y2+=1\n",
        "\n",
        "\n",
        "z1=0.0\n",
        "z2=0\n",
        "while z1<=1 and z2<rng:\n",
        "  Xc[z2]=z1*(math.cos((2*3.14/3)*(2*z1+1))) + np.random.normal(noise_mean, noise_var)\n",
        "  C[z2]=z1*(math.sin((2*3.14/3)*(2*z1+1)))+ np.random.normal(noise_mean, noise_var)\n",
        "  z1+=(1.0/rng)\n",
        "  z2+=1\n",
        "\n",
        "dfA=pd.DataFrame({'X_axis':Xa, 'Y_axis':A, 'Color':CoA})\n",
        "dfB=pd.DataFrame({'X_axis':Xb, 'Y_axis':B, 'Color':CoB})\n",
        "dfC=pd.DataFrame({'X_axis':Xc, 'Y_axis':C, 'Color':CoC})\n",
        "df=pd.concat([dfA, dfB, dfC])\n",
        "df = df.sample(frac=1).reset_index(drop=True)\n",
        "pf1=df[1:200000]\n",
        "pf2=df[200001:300000]\n",
        "pf1.to_csv('./Spiral_train.csv')\n",
        "pf2.to_csv('./Spiral_test.csv')\n",
        "\n",
        "print(pf2)\n",
        "\n",
        "plt.plot(Xa, A, linestyle='dotted', color='blue')\n",
        "plt.plot(Xb, B, linestyle='dotted', color='green')\n",
        "plt.plot(Xc, C, linestyle='dotted', color='red') \n",
        "  \n",
        "# naming the x axis \n",
        "plt.xlabel('x - axis') \n",
        "# naming the y axis \n",
        "plt.ylabel('y - axis') \n",
        "  \n",
        "# giving a title to my graph \n",
        "plt.title('Color Spiral') \n",
        "  \n",
        "# function to show the plot \n",
        "plt.show() "
      ],
      "execution_count": null,
      "outputs": [
        {
          "output_type": "stream",
          "text": [
            "          X_axis    Y_axis  Color\n",
            "200001  0.988716  0.003250      2\n",
            "200002 -0.189668  0.004209      2\n",
            "200003  0.120600 -0.160778      0\n",
            "200004 -0.325471 -0.217165      2\n",
            "200005  0.439270  0.139499      0\n",
            "...          ...       ...    ...\n",
            "299995 -0.358764 -0.251218      2\n",
            "299996  0.754828 -0.449390      2\n",
            "299997  0.096043 -0.205127      0\n",
            "299998 -0.796261 -0.654774      1\n",
            "299999 -0.184390 -0.417251      2\n",
            "\n",
            "[99999 rows x 3 columns]\n"
          ],
          "name": "stdout"
        },
        {
          "output_type": "display_data",
          "data": {
            "image/png": "[encoded data removed]",
            "text/plain": [
              "<Figure size 432x288 with 1 Axes>"
            ]
          },
          "metadata": {
            "tags": [],
            "needs_background": "light"
          }
        }
      ]
    },
    {
      "cell_type": "code",
      "metadata": {
        "id": "OaMfxAplfZ_7",
        "colab": {
          "base_uri": "https://localhost:8080/"
        },
        "outputId": "96f54740-dee1-4b4b-93e3-3a8bce5ff08e"
      },
      "source": [
        "CSV_COLUMN_NAMES = ['X_axis', 'Y_axis', 'Color']\n",
        "COLOR = [0, 1, 2]\n",
        "\n",
        "train = pd.read_csv('Spiral_train.csv', names=CSV_COLUMN_NAMES, header=0)\n",
        "test = pd.read_csv('Spiral_test.csv', names=CSV_COLUMN_NAMES, header=0)\n",
        "train_y = train.pop('Color')\n",
        "test_y = test.pop('Color')\n",
        "train.head()\n",
        "print (train.shape, train.columns.tolist())\n",
        "\n",
        "X=train.values\n",
        "print (X.shape, type(X))\n",
        "y=train_y.values\n"
      ],
      "execution_count": null,
      "outputs": [
        {
          "output_type": "stream",
          "text": [
            "(199999, 2) ['X_axis', 'Y_axis']\n",
            "(199999, 2) <class 'numpy.ndarray'>\n"
          ],
          "name": "stdout"
        }
      ]
    },
    {
      "cell_type": "code",
      "metadata": {
        "id": "KRouzxRhklJE",
        "colab": {
          "base_uri": "https://localhost:8080/"
        },
        "outputId": "b75c068e-05a3-4d98-fa1d-c35bca805aec"
      },
      "source": [
        "# define the keras model\n",
        "model = Sequential()\n",
        "model.add(Dense(4, input_dim=2, activation='relu'))\n",
        "model.add(Dense(2, activation='relu'))\n",
        "model.add(Dense(1, activation='softmax'))\n",
        "\n",
        "# compile the keras model\n",
        "model.compile(loss='categorical_crossentropy', optimizer='adam', metrics=['accuracy'])\n",
        "\n",
        "#model summary\n",
        "print (model.summary())#; input(\"enter\")\n",
        "\n",
        "# fit the keras model on the dataset\n",
        "his=model.fit(X, y, epochs=100, batch_size=32, verbose=1, shuffle=True, validation_split=0.2)\n",
        "\n",
        "# evaluate the keras model\n",
        "_, accuracy = model.evaluate(X, y)\n",
        "print('Accuracy: %.2f' % (accuracy*100))\n",
        "\n",
        "predictions = model.predict(X)\n",
        "predictions_class=np.argmax(predictions, axis=-1)\n",
        "\n",
        "print(predictions_class.shape)\n",
        "matrix = confusion_matrix(predictions_class, y)\n",
        "print(matrix)"
      ],
      "execution_count": null,
      "outputs": [
        {
          "output_type": "stream",
          "text": [
            "Model: \"sequential_7\"\n",
            "_________________________________________________________________\n",
            "Layer (type)                 Output Shape              Param #   \n",
            "=================================================================\n",
            "dense_21 (Dense)             (None, 4)                 12        \n",
            "_________________________________________________________________\n",
            "dense_22 (Dense)             (None, 2)                 10        \n",
            "_________________________________________________________________\n",
            "dense_23 (Dense)             (None, 1)                 3         \n",
            "=================================================================\n",
            "Total params: 25\n",
            "Trainable params: 25\n",
            "Non-trainable params: 0\n",
            "_________________________________________________________________\n",
            "None\n",
            "Epoch 1/2\n",
            "5000/5000 [==============================] - 7s 1ms/step - loss: 0.0000e+00 - accuracy: 0.3324 - val_loss: 0.0000e+00 - val_accuracy: 0.3313\n",
            "Epoch 2/2\n",
            "5000/5000 [==============================] - 6s 1ms/step - loss: 0.0000e+00 - accuracy: 0.3351 - val_loss: 0.0000e+00 - val_accuracy: 0.3313\n",
            "6250/6250 [==============================] - 9s 1ms/step - loss: 0.0000e+00 - accuracy: 0.3328\n",
            "Accuracy: 33.28\n",
            "(199999,)\n",
            "[[66799 66554 66646]\n",
            " [    0     0     0]\n",
            " [    0     0     0]]\n"
          ],
          "name": "stdout"
        }
      ]
    },
    {
      "cell_type": "markdown",
      "metadata": {
        "id": "xvwEROKEX5wH"
      },
      "source": [
        "**Training statistics**"
      ]
    },
    {
      "cell_type": "code",
      "metadata": {
        "colab": {
          "base_uri": "https://localhost:8080/",
          "height": 610
        },
        "id": "N36QQ75_Nojl",
        "outputId": "2399c786-241b-4656-93f3-a8b7eea427fb"
      },
      "source": [
        "dfVal=pd.DataFrame()\n",
        "dfVal[\"train_loss\"]=his.history[\"loss\"]\n",
        "dfVal[\"train_accuracy\"]=his.history[\"accuracy\"]\n",
        "dfVal[\"val_loss\"]=his.history[\"val_loss\"]\n",
        "dfVal[\"val_accuracy\"]=his.history[\"val_accuracy\"]\n",
        "dfVal[\"Epochs\"]=[i for i in range(dfVal.shape[0])]\n",
        "print (dfVal.head(10), dfVal.shape)\n",
        "dfVal.plot(x=\"Epochs\", y=[\"train_loss\", \"val_loss\"])\n",
        "dfVal.plot(x=\"Epochs\", y=[\"train_accuracy\", \"val_accuracy\"])"
      ],
      "execution_count": null,
      "outputs": [
        {
          "output_type": "stream",
          "text": [
            "   train_loss  train_accuracy  val_loss  val_accuracy  Epochs\n",
            "0         0.0        0.333133       0.0      0.331325       0\n",
            "1         0.0        0.333133       0.0      0.331325       1 (2, 5)\n"
          ],
          "name": "stdout"
        },
        {
          "output_type": "execute_result",
          "data": {
            "text/plain": [
              "<matplotlib.axes._subplots.AxesSubplot at 0x7f832a9449b0>"
            ]
          },
          "metadata": {
            "tags": []
          },
          "execution_count": 39
        },
        {
          "output_type": "display_data",
          "data": {
            "image/png": "[encoded data removed]",
            "text/plain": [
              "<Figure size 432x288 with 1 Axes>"
            ]
          },
          "metadata": {
            "tags": [],
            "needs_background": "light"
          }
        },
        {
          "output_type": "display_data",
          "data": {
            "image/png": "[encoded data removed]",
            "text/plain": [
              "<Figure size 432x288 with 1 Axes>"
            ]
          },
          "metadata": {
            "tags": [],
            "needs_background": "light"
          }
        }
      ]
    },
    {
      "cell_type": "code",
      "metadata": {
        "id": "11wKYr9IrF1C"
      },
      "source": [
        "from keras import backend as K"
      ],
      "execution_count": null,
      "outputs": []
    },
    {
      "cell_type": "markdown",
      "metadata": {
        "id": "2bq6KLJuxCBd"
      },
      "source": [
        "**Output Tensor from each layer**"
      ]
    },
    {
      "cell_type": "code",
      "metadata": {
        "id": "qpM603fTbqz5",
        "colab": {
          "base_uri": "https://localhost:8080/"
        },
        "outputId": "94a87ca1-63a6-4765-eaa9-ac0fe8bbc601"
      },
      "source": [
        "## output of each layer\n",
        "def outputEachLayer(model):\n",
        "  inp = model.input  \n",
        "  input_shape=(2,)\n",
        "  print (inp, type(inp), input_shape)#; input(\"enter\")                                         # input placeholder\n",
        "  outputs = [layer.output for layer in model.layers]          # all layer outputs\n",
        "  functor = K.function(inp, outputs)#[inp, K.learning_phase()], outputs) \n",
        "  ###For a given test case we can get output tensor from each layer. Replace test variable with the desired value\n",
        "  # Testing\n",
        "  test = np.random.random(input_shape)[np.newaxis,...]; print (test.shape)#; input(\"enter\")\n",
        "  layer_outs = functor(test)#[test, 1.])\n",
        "  print(\"layers shape\\n\", [x.shape for x in layer_outs], \"\\n\")\n",
        "  print(\"layers value\\n\", [x for x in layer_outs], \"\\n\")\n",
        "  return layer_outs\n",
        "\t\n",
        "layer_outs=outputEachLayer(model)\n",
        "#print ([x.shape for x in layer_outs])\n",
        "#print ([x for x in layer_outs])"
      ],
      "execution_count": null,
      "outputs": [
        {
          "output_type": "stream",
          "text": [
            "KerasTensor(type_spec=TensorSpec(shape=(None, 2), dtype=tf.float32, name='dense_21_input'), name='dense_21_input', description=\"created by layer 'dense_21_input'\") <class 'tensorflow.python.keras.engine.keras_tensor.KerasTensor'> (2,)\n",
            "(1, 2)\n",
            "layers shape\n",
            " [(1, 4), (1, 2), (1, 1)] \n",
            "\n",
            "layers value\n",
            " [array([[0., 0., 0., 0.]], dtype=float32), array([[0.03273788, 0.03459849]], dtype=float32), array([[1.]], dtype=float32)] \n",
            "\n"
          ],
          "name": "stdout"
        }
      ]
    },
    {
      "cell_type": "code",
      "metadata": {
        "id": "_dPT5VNIFidJ",
        "colab": {
          "base_uri": "https://localhost:8080/"
        },
        "outputId": "8c5989cb-0540-42e7-c6e9-48a7f401dc22"
      },
      "source": [
        "X_test=test.values\n",
        "y_test=test_y.values\n",
        "\n",
        "#Evaluate the test accuracy\n",
        "_, accuracy = model.evaluate(X_test, y_test)\n",
        "print('Accuracy: %.2f' % (accuracy*100))\n",
        "\n",
        "# make probability predictions with the model\n",
        "predictions = model.predict(X_test)#; input(\"enter\")\n",
        "predictions_class=np.argmax(predictions, axis=-1)\n",
        "\n",
        "matrix = confusion_matrix(predictions_class, y_test)\n",
        "print(matrix)\n",
        "# summarize the first 5 cases\n",
        "for i in range(5):\n",
        "\tprint('%s => %d (expected %d)' % (X_test[i].tolist(), predictions[i], y_test[i]))"
      ],
      "execution_count": null,
      "outputs": [
        {
          "output_type": "stream",
          "text": [
            "3125/3125 [==============================] - 5s 1ms/step - loss: 0.0000e+00 - accuracy: 0.3345\n",
            "Accuracy: 33.45\n",
            "[[33201 33445 33353]\n",
            " [    0     0     0]\n",
            " [    0     0     0]]\n",
            "[0.9887156335828136, 0.0032499118009183536] => 1 (expected 2)\n",
            "[-0.18966804690046635, 0.004209195720548474] => 1 (expected 2)\n",
            "[0.1205995740152771, -0.16077806162213013] => 1 (expected 0)\n",
            "[-0.3254705425326557, -0.2171653702317484] => 1 (expected 2)\n",
            "[0.4392698605452732, 0.1394993317896652] => 1 (expected 0)\n"
          ],
          "name": "stdout"
        }
      ]
    }
  ]
}